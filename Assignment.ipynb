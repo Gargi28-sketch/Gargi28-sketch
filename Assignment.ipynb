{
  "nbformat": 4,
  "nbformat_minor": 0,
  "metadata": {
    "colab": {
      "provenance": [],
      "mount_file_id": "1OVXo4vMW3JpEcUPBZ9bToZ1faCppnisI",
      "authorship_tag": "ABX9TyOJupJ+0NItYfrM+RELzAEA",
      "include_colab_link": true
    },
    "kernelspec": {
      "name": "python3",
      "display_name": "Python 3"
    },
    "language_info": {
      "name": "python"
    }
  },
  "cells": [
    {
      "cell_type": "markdown",
      "metadata": {
        "id": "view-in-github",
        "colab_type": "text"
      },
      "source": [
        "<a href=\"https://colab.research.google.com/github/Gargi28-sketch/Gargi28-sketch/blob/main/Assignment.ipynb\" target=\"_parent\"><img src=\"https://colab.research.google.com/assets/colab-badge.svg\" alt=\"Open In Colab\"/></a>"
      ]
    },
    {
      "cell_type": "code",
      "source": [
        "# Install required packages\n",
        "!apt-get install -y ncbi-blast+ mafft iqtree\n",
        "!pip install biopython\n"
      ],
      "metadata": {
        "colab": {
          "base_uri": "https://localhost:8080/"
        },
        "collapsed": true,
        "id": "L5EJO-MwWJmH",
        "outputId": "cf6824a0-5077-40cf-f559-d0083303220e"
      },
      "execution_count": 1,
      "outputs": [
        {
          "output_type": "stream",
          "name": "stdout",
          "text": [
            "Reading package lists... Done\n",
            "Building dependency tree... Done\n",
            "Reading state information... Done\n",
            "The following additional packages will be installed:\n",
            "  fonts-lato libauthen-sasl-perl libclone-perl libdata-dump-perl\n",
            "  libencode-locale-perl libfile-listing-perl libfont-afm-perl\n",
            "  libhtml-form-perl libhtml-format-perl libhtml-parser-perl\n",
            "  libhtml-tagset-perl libhtml-tree-perl libhttp-cookies-perl\n",
            "  libhttp-daemon-perl libhttp-date-perl libhttp-message-perl\n",
            "  libhttp-negotiate-perl libio-html-perl libio-socket-ssl-perl\n",
            "  liblwp-mediatypes-perl liblwp-protocol-https-perl libmailtools-perl\n",
            "  libnet-http-perl libnet-smtp-ssl-perl libnet-ssleay-perl libruby3.0\n",
            "  libtry-tiny-perl liburi-perl libwww-perl libwww-robotrules-perl lynx\n",
            "  lynx-common ncbi-data netbase perl-openssl-defaults rake ruby\n",
            "  ruby-net-telnet ruby-rubygems ruby-webrick ruby-xmlrpc ruby3.0\n",
            "  rubygems-integration\n",
            "Suggested packages:\n",
            "  libdigest-hmac-perl libgssapi-perl libcrypt-ssleay-perl libsub-name-perl\n",
            "  libbusiness-isbn-perl libauthen-ntlm-perl ri ruby-dev bundler\n",
            "Recommended packages:\n",
            "  blast2\n",
            "The following NEW packages will be installed:\n",
            "  fonts-lato iqtree libauthen-sasl-perl libclone-perl libdata-dump-perl\n",
            "  libencode-locale-perl libfile-listing-perl libfont-afm-perl\n",
            "  libhtml-form-perl libhtml-format-perl libhtml-parser-perl\n",
            "  libhtml-tagset-perl libhtml-tree-perl libhttp-cookies-perl\n",
            "  libhttp-daemon-perl libhttp-date-perl libhttp-message-perl\n",
            "  libhttp-negotiate-perl libio-html-perl libio-socket-ssl-perl\n",
            "  liblwp-mediatypes-perl liblwp-protocol-https-perl libmailtools-perl\n",
            "  libnet-http-perl libnet-smtp-ssl-perl libnet-ssleay-perl libruby3.0\n",
            "  libtry-tiny-perl liburi-perl libwww-perl libwww-robotrules-perl lynx\n",
            "  lynx-common mafft ncbi-blast+ ncbi-data netbase perl-openssl-defaults rake\n",
            "  ruby ruby-net-telnet ruby-rubygems ruby-webrick ruby-xmlrpc ruby3.0\n",
            "  rubygems-integration\n",
            "0 upgraded, 46 newly installed, 0 to remove and 35 not upgraded.\n",
            "Need to get 31.9 MB of archives.\n",
            "After this operation, 147 MB of additional disk space will be used.\n",
            "Get:1 http://archive.ubuntu.com/ubuntu jammy/main amd64 fonts-lato all 2.0-2.1 [2,696 kB]\n",
            "Get:2 http://archive.ubuntu.com/ubuntu jammy/main amd64 netbase all 6.3 [12.9 kB]\n",
            "Get:3 http://archive.ubuntu.com/ubuntu jammy/universe amd64 iqtree amd64 2.0.7+dfsg-1 [3,776 kB]\n",
            "Get:4 http://archive.ubuntu.com/ubuntu jammy/main amd64 libclone-perl amd64 0.45-1build3 [11.0 kB]\n",
            "Get:5 http://archive.ubuntu.com/ubuntu jammy/main amd64 libdata-dump-perl all 1.25-1 [25.9 kB]\n",
            "Get:6 http://archive.ubuntu.com/ubuntu jammy/main amd64 libencode-locale-perl all 1.05-1.1 [11.8 kB]\n",
            "Get:7 http://archive.ubuntu.com/ubuntu jammy/main amd64 libhttp-date-perl all 6.05-1 [9,920 B]\n",
            "Get:8 http://archive.ubuntu.com/ubuntu jammy/main amd64 libfile-listing-perl all 6.14-1 [11.2 kB]\n",
            "Get:9 http://archive.ubuntu.com/ubuntu jammy/main amd64 libfont-afm-perl all 1.20-3 [13.6 kB]\n",
            "Get:10 http://archive.ubuntu.com/ubuntu jammy/main amd64 libhtml-tagset-perl all 3.20-4 [12.5 kB]\n",
            "Get:11 http://archive.ubuntu.com/ubuntu jammy/main amd64 liburi-perl all 5.10-1 [78.8 kB]\n",
            "Get:12 http://archive.ubuntu.com/ubuntu jammy/main amd64 libhtml-parser-perl amd64 3.76-1build2 [88.4 kB]\n",
            "Get:13 http://archive.ubuntu.com/ubuntu jammy/main amd64 libio-html-perl all 1.004-2 [15.4 kB]\n",
            "Get:14 http://archive.ubuntu.com/ubuntu jammy/main amd64 liblwp-mediatypes-perl all 6.04-1 [19.5 kB]\n",
            "Get:15 http://archive.ubuntu.com/ubuntu jammy/main amd64 libhttp-message-perl all 6.36-1 [76.8 kB]\n",
            "Get:16 http://archive.ubuntu.com/ubuntu jammy/main amd64 libhtml-form-perl all 6.07-1 [22.2 kB]\n",
            "Get:17 http://archive.ubuntu.com/ubuntu jammy/main amd64 libhtml-tree-perl all 5.07-2 [200 kB]\n",
            "Get:18 http://archive.ubuntu.com/ubuntu jammy/main amd64 libhtml-format-perl all 2.12-1.1 [41.3 kB]\n",
            "Get:19 http://archive.ubuntu.com/ubuntu jammy/main amd64 libhttp-cookies-perl all 6.10-1 [18.4 kB]\n",
            "Get:20 http://archive.ubuntu.com/ubuntu jammy-updates/main amd64 libhttp-daemon-perl all 6.13-1ubuntu0.1 [22.9 kB]\n",
            "Get:21 http://archive.ubuntu.com/ubuntu jammy/main amd64 libhttp-negotiate-perl all 6.01-1 [12.5 kB]\n",
            "Get:22 http://archive.ubuntu.com/ubuntu jammy/main amd64 perl-openssl-defaults amd64 5build2 [7,542 B]\n",
            "Get:23 http://archive.ubuntu.com/ubuntu jammy/main amd64 libnet-ssleay-perl amd64 1.92-1build2 [327 kB]\n",
            "Get:24 http://archive.ubuntu.com/ubuntu jammy/main amd64 libio-socket-ssl-perl all 2.074-2 [192 kB]\n",
            "Get:25 http://archive.ubuntu.com/ubuntu jammy/main amd64 libnet-http-perl all 6.22-1 [23.2 kB]\n",
            "Get:26 http://archive.ubuntu.com/ubuntu jammy/main amd64 libtry-tiny-perl all 0.31-1 [21.8 kB]\n",
            "Get:27 http://archive.ubuntu.com/ubuntu jammy/main amd64 libwww-robotrules-perl all 6.02-1 [12.6 kB]\n",
            "Get:28 http://archive.ubuntu.com/ubuntu jammy/main amd64 libwww-perl all 6.61-1 [141 kB]\n",
            "Get:29 http://archive.ubuntu.com/ubuntu jammy/main amd64 liblwp-protocol-https-perl all 6.10-1 [10.9 kB]\n",
            "Get:30 http://archive.ubuntu.com/ubuntu jammy/main amd64 libnet-smtp-ssl-perl all 1.04-1 [5,948 B]\n",
            "Get:31 http://archive.ubuntu.com/ubuntu jammy/main amd64 libmailtools-perl all 2.21-1 [80.7 kB]\n",
            "Get:32 http://archive.ubuntu.com/ubuntu jammy/main amd64 rubygems-integration all 1.18 [5,336 B]\n",
            "Get:33 http://archive.ubuntu.com/ubuntu jammy-updates/main amd64 ruby3.0 amd64 3.0.2-7ubuntu2.10 [50.1 kB]\n",
            "Get:34 http://archive.ubuntu.com/ubuntu jammy/main amd64 ruby-rubygems all 3.3.5-2 [228 kB]\n",
            "Get:35 http://archive.ubuntu.com/ubuntu jammy/main amd64 ruby amd64 1:3.0~exp1 [5,100 B]\n",
            "Get:36 http://archive.ubuntu.com/ubuntu jammy/main amd64 rake all 13.0.6-2 [61.7 kB]\n",
            "Get:37 http://archive.ubuntu.com/ubuntu jammy/main amd64 ruby-net-telnet all 0.1.1-2 [12.6 kB]\n",
            "Get:38 http://archive.ubuntu.com/ubuntu jammy-updates/main amd64 ruby-webrick all 1.7.0-3ubuntu0.1 [52.1 kB]\n",
            "Get:39 http://archive.ubuntu.com/ubuntu jammy-updates/main amd64 ruby-xmlrpc all 0.3.2-1ubuntu0.1 [24.9 kB]\n",
            "Get:40 http://archive.ubuntu.com/ubuntu jammy-updates/main amd64 libruby3.0 amd64 3.0.2-7ubuntu2.10 [5,114 kB]\n",
            "Get:41 http://archive.ubuntu.com/ubuntu jammy/universe amd64 lynx-common all 2.9.0dev.10-1 [1,024 kB]\n",
            "Get:42 http://archive.ubuntu.com/ubuntu jammy/universe amd64 mafft amd64 7.490-1 [776 kB]\n",
            "Get:43 http://archive.ubuntu.com/ubuntu jammy/universe amd64 ncbi-data all 6.1.20170106+dfsg1-9 [3,519 kB]\n",
            "Get:44 http://archive.ubuntu.com/ubuntu jammy/universe amd64 ncbi-blast+ amd64 2.12.0+ds-3build1 [12.3 MB]\n",
            "Get:45 http://archive.ubuntu.com/ubuntu jammy/main amd64 libauthen-sasl-perl all 2.1600-1.1 [43.1 kB]\n",
            "Get:46 http://archive.ubuntu.com/ubuntu jammy/universe amd64 lynx amd64 2.9.0dev.10-1 [719 kB]\n",
            "Fetched 31.9 MB in 1s (41.4 MB/s)\n",
            "Extracting templates from packages: 100%\n",
            "Selecting previously unselected package fonts-lato.\n",
            "(Reading database ... 126308 files and directories currently installed.)\n",
            "Preparing to unpack .../00-fonts-lato_2.0-2.1_all.deb ...\n",
            "Unpacking fonts-lato (2.0-2.1) ...\n",
            "Selecting previously unselected package netbase.\n",
            "Preparing to unpack .../01-netbase_6.3_all.deb ...\n",
            "Unpacking netbase (6.3) ...\n",
            "Selecting previously unselected package iqtree.\n",
            "Preparing to unpack .../02-iqtree_2.0.7+dfsg-1_amd64.deb ...\n",
            "Unpacking iqtree (2.0.7+dfsg-1) ...\n",
            "Selecting previously unselected package libclone-perl.\n",
            "Preparing to unpack .../03-libclone-perl_0.45-1build3_amd64.deb ...\n",
            "Unpacking libclone-perl (0.45-1build3) ...\n",
            "Selecting previously unselected package libdata-dump-perl.\n",
            "Preparing to unpack .../04-libdata-dump-perl_1.25-1_all.deb ...\n",
            "Unpacking libdata-dump-perl (1.25-1) ...\n",
            "Selecting previously unselected package libencode-locale-perl.\n",
            "Preparing to unpack .../05-libencode-locale-perl_1.05-1.1_all.deb ...\n",
            "Unpacking libencode-locale-perl (1.05-1.1) ...\n",
            "Selecting previously unselected package libhttp-date-perl.\n",
            "Preparing to unpack .../06-libhttp-date-perl_6.05-1_all.deb ...\n",
            "Unpacking libhttp-date-perl (6.05-1) ...\n",
            "Selecting previously unselected package libfile-listing-perl.\n",
            "Preparing to unpack .../07-libfile-listing-perl_6.14-1_all.deb ...\n",
            "Unpacking libfile-listing-perl (6.14-1) ...\n",
            "Selecting previously unselected package libfont-afm-perl.\n",
            "Preparing to unpack .../08-libfont-afm-perl_1.20-3_all.deb ...\n",
            "Unpacking libfont-afm-perl (1.20-3) ...\n",
            "Selecting previously unselected package libhtml-tagset-perl.\n",
            "Preparing to unpack .../09-libhtml-tagset-perl_3.20-4_all.deb ...\n",
            "Unpacking libhtml-tagset-perl (3.20-4) ...\n",
            "Selecting previously unselected package liburi-perl.\n",
            "Preparing to unpack .../10-liburi-perl_5.10-1_all.deb ...\n",
            "Unpacking liburi-perl (5.10-1) ...\n",
            "Selecting previously unselected package libhtml-parser-perl:amd64.\n",
            "Preparing to unpack .../11-libhtml-parser-perl_3.76-1build2_amd64.deb ...\n",
            "Unpacking libhtml-parser-perl:amd64 (3.76-1build2) ...\n",
            "Selecting previously unselected package libio-html-perl.\n",
            "Preparing to unpack .../12-libio-html-perl_1.004-2_all.deb ...\n",
            "Unpacking libio-html-perl (1.004-2) ...\n",
            "Selecting previously unselected package liblwp-mediatypes-perl.\n",
            "Preparing to unpack .../13-liblwp-mediatypes-perl_6.04-1_all.deb ...\n",
            "Unpacking liblwp-mediatypes-perl (6.04-1) ...\n",
            "Selecting previously unselected package libhttp-message-perl.\n",
            "Preparing to unpack .../14-libhttp-message-perl_6.36-1_all.deb ...\n",
            "Unpacking libhttp-message-perl (6.36-1) ...\n",
            "Selecting previously unselected package libhtml-form-perl.\n",
            "Preparing to unpack .../15-libhtml-form-perl_6.07-1_all.deb ...\n",
            "Unpacking libhtml-form-perl (6.07-1) ...\n",
            "Selecting previously unselected package libhtml-tree-perl.\n",
            "Preparing to unpack .../16-libhtml-tree-perl_5.07-2_all.deb ...\n",
            "Unpacking libhtml-tree-perl (5.07-2) ...\n",
            "Selecting previously unselected package libhtml-format-perl.\n",
            "Preparing to unpack .../17-libhtml-format-perl_2.12-1.1_all.deb ...\n",
            "Unpacking libhtml-format-perl (2.12-1.1) ...\n",
            "Selecting previously unselected package libhttp-cookies-perl.\n",
            "Preparing to unpack .../18-libhttp-cookies-perl_6.10-1_all.deb ...\n",
            "Unpacking libhttp-cookies-perl (6.10-1) ...\n",
            "Selecting previously unselected package libhttp-daemon-perl.\n",
            "Preparing to unpack .../19-libhttp-daemon-perl_6.13-1ubuntu0.1_all.deb ...\n",
            "Unpacking libhttp-daemon-perl (6.13-1ubuntu0.1) ...\n",
            "Selecting previously unselected package libhttp-negotiate-perl.\n",
            "Preparing to unpack .../20-libhttp-negotiate-perl_6.01-1_all.deb ...\n",
            "Unpacking libhttp-negotiate-perl (6.01-1) ...\n",
            "Selecting previously unselected package perl-openssl-defaults:amd64.\n",
            "Preparing to unpack .../21-perl-openssl-defaults_5build2_amd64.deb ...\n",
            "Unpacking perl-openssl-defaults:amd64 (5build2) ...\n",
            "Selecting previously unselected package libnet-ssleay-perl:amd64.\n",
            "Preparing to unpack .../22-libnet-ssleay-perl_1.92-1build2_amd64.deb ...\n",
            "Unpacking libnet-ssleay-perl:amd64 (1.92-1build2) ...\n",
            "Selecting previously unselected package libio-socket-ssl-perl.\n",
            "Preparing to unpack .../23-libio-socket-ssl-perl_2.074-2_all.deb ...\n",
            "Unpacking libio-socket-ssl-perl (2.074-2) ...\n",
            "Selecting previously unselected package libnet-http-perl.\n",
            "Preparing to unpack .../24-libnet-http-perl_6.22-1_all.deb ...\n",
            "Unpacking libnet-http-perl (6.22-1) ...\n",
            "Selecting previously unselected package libtry-tiny-perl.\n",
            "Preparing to unpack .../25-libtry-tiny-perl_0.31-1_all.deb ...\n",
            "Unpacking libtry-tiny-perl (0.31-1) ...\n",
            "Selecting previously unselected package libwww-robotrules-perl.\n",
            "Preparing to unpack .../26-libwww-robotrules-perl_6.02-1_all.deb ...\n",
            "Unpacking libwww-robotrules-perl (6.02-1) ...\n",
            "Selecting previously unselected package libwww-perl.\n",
            "Preparing to unpack .../27-libwww-perl_6.61-1_all.deb ...\n",
            "Unpacking libwww-perl (6.61-1) ...\n",
            "Selecting previously unselected package liblwp-protocol-https-perl.\n",
            "Preparing to unpack .../28-liblwp-protocol-https-perl_6.10-1_all.deb ...\n",
            "Unpacking liblwp-protocol-https-perl (6.10-1) ...\n",
            "Selecting previously unselected package libnet-smtp-ssl-perl.\n",
            "Preparing to unpack .../29-libnet-smtp-ssl-perl_1.04-1_all.deb ...\n",
            "Unpacking libnet-smtp-ssl-perl (1.04-1) ...\n",
            "Selecting previously unselected package libmailtools-perl.\n",
            "Preparing to unpack .../30-libmailtools-perl_2.21-1_all.deb ...\n",
            "Unpacking libmailtools-perl (2.21-1) ...\n",
            "Selecting previously unselected package rubygems-integration.\n",
            "Preparing to unpack .../31-rubygems-integration_1.18_all.deb ...\n",
            "Unpacking rubygems-integration (1.18) ...\n",
            "Selecting previously unselected package ruby3.0.\n",
            "Preparing to unpack .../32-ruby3.0_3.0.2-7ubuntu2.10_amd64.deb ...\n",
            "Unpacking ruby3.0 (3.0.2-7ubuntu2.10) ...\n",
            "Selecting previously unselected package ruby-rubygems.\n",
            "Preparing to unpack .../33-ruby-rubygems_3.3.5-2_all.deb ...\n",
            "Unpacking ruby-rubygems (3.3.5-2) ...\n",
            "Selecting previously unselected package ruby.\n",
            "Preparing to unpack .../34-ruby_1%3a3.0~exp1_amd64.deb ...\n",
            "Unpacking ruby (1:3.0~exp1) ...\n",
            "Selecting previously unselected package rake.\n",
            "Preparing to unpack .../35-rake_13.0.6-2_all.deb ...\n",
            "Unpacking rake (13.0.6-2) ...\n",
            "Selecting previously unselected package ruby-net-telnet.\n",
            "Preparing to unpack .../36-ruby-net-telnet_0.1.1-2_all.deb ...\n",
            "Unpacking ruby-net-telnet (0.1.1-2) ...\n",
            "Selecting previously unselected package ruby-webrick.\n",
            "Preparing to unpack .../37-ruby-webrick_1.7.0-3ubuntu0.1_all.deb ...\n",
            "Unpacking ruby-webrick (1.7.0-3ubuntu0.1) ...\n",
            "Selecting previously unselected package ruby-xmlrpc.\n",
            "Preparing to unpack .../38-ruby-xmlrpc_0.3.2-1ubuntu0.1_all.deb ...\n",
            "Unpacking ruby-xmlrpc (0.3.2-1ubuntu0.1) ...\n",
            "Selecting previously unselected package libruby3.0:amd64.\n",
            "Preparing to unpack .../39-libruby3.0_3.0.2-7ubuntu2.10_amd64.deb ...\n",
            "Unpacking libruby3.0:amd64 (3.0.2-7ubuntu2.10) ...\n",
            "Selecting previously unselected package lynx-common.\n",
            "Preparing to unpack .../40-lynx-common_2.9.0dev.10-1_all.deb ...\n",
            "Unpacking lynx-common (2.9.0dev.10-1) ...\n",
            "Selecting previously unselected package mafft.\n",
            "Preparing to unpack .../41-mafft_7.490-1_amd64.deb ...\n",
            "Unpacking mafft (7.490-1) ...\n",
            "Selecting previously unselected package ncbi-data.\n",
            "Preparing to unpack .../42-ncbi-data_6.1.20170106+dfsg1-9_all.deb ...\n",
            "Unpacking ncbi-data (6.1.20170106+dfsg1-9) ...\n",
            "Selecting previously unselected package ncbi-blast+.\n",
            "Preparing to unpack .../43-ncbi-blast+_2.12.0+ds-3build1_amd64.deb ...\n",
            "Unpacking ncbi-blast+ (2.12.0+ds-3build1) ...\n",
            "Selecting previously unselected package libauthen-sasl-perl.\n",
            "Preparing to unpack .../44-libauthen-sasl-perl_2.1600-1.1_all.deb ...\n",
            "Unpacking libauthen-sasl-perl (2.1600-1.1) ...\n",
            "Selecting previously unselected package lynx.\n",
            "Preparing to unpack .../45-lynx_2.9.0dev.10-1_amd64.deb ...\n",
            "Unpacking lynx (2.9.0dev.10-1) ...\n",
            "Setting up ncbi-data (6.1.20170106+dfsg1-9) ...\n",
            "Setting up libhttp-date-perl (6.05-1) ...\n",
            "Setting up fonts-lato (2.0-2.1) ...\n",
            "Setting up libfile-listing-perl (6.14-1) ...\n",
            "Setting up libfont-afm-perl (1.20-3) ...\n",
            "Setting up mafft (7.490-1) ...\n",
            "Setting up libclone-perl (0.45-1build3) ...\n",
            "Setting up libhtml-tagset-perl (3.20-4) ...\n",
            "Setting up libauthen-sasl-perl (2.1600-1.1) ...\n",
            "Setting up liblwp-mediatypes-perl (6.04-1) ...\n",
            "Setting up libtry-tiny-perl (0.31-1) ...\n",
            "Setting up perl-openssl-defaults:amd64 (5build2) ...\n",
            "Setting up libencode-locale-perl (1.05-1.1) ...\n",
            "Setting up rubygems-integration (1.18) ...\n",
            "Setting up iqtree (2.0.7+dfsg-1) ...\n",
            "Setting up ncbi-blast+ (2.12.0+ds-3build1) ...\n",
            "Setting up libdata-dump-perl (1.25-1) ...\n",
            "Setting up ruby-net-telnet (0.1.1-2) ...\n",
            "Setting up libio-html-perl (1.004-2) ...\n",
            "Setting up lynx-common (2.9.0dev.10-1) ...\n",
            "Setting up ruby-webrick (1.7.0-3ubuntu0.1) ...\n",
            "Setting up netbase (6.3) ...\n",
            "Setting up lynx (2.9.0dev.10-1) ...\n",
            "update-alternatives: using /usr/bin/lynx to provide /usr/bin/www-browser (www-browser) in auto mode\n",
            "Setting up ruby-xmlrpc (0.3.2-1ubuntu0.1) ...\n",
            "Setting up liburi-perl (5.10-1) ...\n",
            "Setting up libhttp-message-perl (6.36-1) ...\n",
            "Setting up libnet-ssleay-perl:amd64 (1.92-1build2) ...\n",
            "Setting up libhttp-negotiate-perl (6.01-1) ...\n",
            "Setting up libhttp-cookies-perl (6.10-1) ...\n",
            "Setting up libnet-http-perl (6.22-1) ...\n",
            "Setting up libwww-robotrules-perl (6.02-1) ...\n",
            "Setting up libhttp-daemon-perl (6.13-1ubuntu0.1) ...\n",
            "Setting up libhtml-parser-perl:amd64 (3.76-1build2) ...\n",
            "Setting up libio-socket-ssl-perl (2.074-2) ...\n",
            "Setting up libhtml-form-perl (6.07-1) ...\n",
            "Setting up libhtml-tree-perl (5.07-2) ...\n",
            "Setting up libhtml-format-perl (2.12-1.1) ...\n",
            "Setting up libnet-smtp-ssl-perl (1.04-1) ...\n",
            "Setting up libmailtools-perl (2.21-1) ...\n",
            "Setting up libwww-perl (6.61-1) ...\n",
            "Setting up ruby3.0 (3.0.2-7ubuntu2.10) ...\n",
            "Setting up liblwp-protocol-https-perl (6.10-1) ...\n",
            "Setting up ruby (1:3.0~exp1) ...\n",
            "Setting up rake (13.0.6-2) ...\n",
            "Setting up libruby3.0:amd64 (3.0.2-7ubuntu2.10) ...\n",
            "Setting up ruby-rubygems (3.3.5-2) ...\n",
            "Processing triggers for man-db (2.10.2-1) ...\n",
            "Processing triggers for mailcap (3.70+nmu1ubuntu1) ...\n",
            "Processing triggers for fontconfig (2.13.1-4.2ubuntu5) ...\n",
            "Processing triggers for hicolor-icon-theme (0.17-2) ...\n",
            "Processing triggers for libc-bin (2.35-0ubuntu3.8) ...\n",
            "/sbin/ldconfig.real: /usr/local/lib/libtbb.so.12 is not a symbolic link\n",
            "\n",
            "/sbin/ldconfig.real: /usr/local/lib/libhwloc.so.15 is not a symbolic link\n",
            "\n",
            "/sbin/ldconfig.real: /usr/local/lib/libtcm.so.1 is not a symbolic link\n",
            "\n",
            "/sbin/ldconfig.real: /usr/local/lib/libtbbbind_2_5.so.3 is not a symbolic link\n",
            "\n",
            "/sbin/ldconfig.real: /usr/local/lib/libur_loader.so.0 is not a symbolic link\n",
            "\n",
            "/sbin/ldconfig.real: /usr/local/lib/libtbbbind.so.3 is not a symbolic link\n",
            "\n",
            "/sbin/ldconfig.real: /usr/local/lib/libur_adapter_level_zero.so.0 is not a symbolic link\n",
            "\n",
            "/sbin/ldconfig.real: /usr/local/lib/libur_adapter_level_zero_v2.so.0 is not a symbolic link\n",
            "\n",
            "/sbin/ldconfig.real: /usr/local/lib/libtbbmalloc.so.2 is not a symbolic link\n",
            "\n",
            "/sbin/ldconfig.real: /usr/local/lib/libur_adapter_opencl.so.0 is not a symbolic link\n",
            "\n",
            "/sbin/ldconfig.real: /usr/local/lib/libtbbmalloc_proxy.so.2 is not a symbolic link\n",
            "\n",
            "/sbin/ldconfig.real: /usr/local/lib/libtcm_debug.so.1 is not a symbolic link\n",
            "\n",
            "/sbin/ldconfig.real: /usr/local/lib/libumf.so.0 is not a symbolic link\n",
            "\n",
            "/sbin/ldconfig.real: /usr/local/lib/libtbbbind_2_0.so.3 is not a symbolic link\n",
            "\n",
            "Collecting biopython\n",
            "  Downloading biopython-1.85-cp311-cp311-manylinux_2_17_x86_64.manylinux2014_x86_64.whl.metadata (13 kB)\n",
            "Requirement already satisfied: numpy in /usr/local/lib/python3.11/dist-packages (from biopython) (2.0.2)\n",
            "Downloading biopython-1.85-cp311-cp311-manylinux_2_17_x86_64.manylinux2014_x86_64.whl (3.3 MB)\n",
            "\u001b[2K   \u001b[90m━━━━━━━━━━━━━━━━━━━━━━━━━━━━━━━━━━━━━━━━\u001b[0m \u001b[32m3.3/3.3 MB\u001b[0m \u001b[31m28.8 MB/s\u001b[0m eta \u001b[36m0:00:00\u001b[0m\n",
            "\u001b[?25hInstalling collected packages: biopython\n",
            "Successfully installed biopython-1.85\n"
          ]
        }
      ]
    },
    {
      "cell_type": "code",
      "source": [
        "import os\n",
        "import tarfile\n",
        "from Bio import SeqIO\n",
        "from Bio.Blast.Applications import NcbiblastnCommandline\n",
        "from Bio import SearchIO\n",
        "from shutil import copyfile\n",
        "from pathlib import Path"
      ],
      "metadata": {
        "colab": {
          "base_uri": "https://localhost:8080/"
        },
        "collapsed": true,
        "id": "55-8DPIuWJw8",
        "outputId": "fb76c506-c855-4824-e44a-f7f40012e4d9"
      },
      "execution_count": 2,
      "outputs": [
        {
          "output_type": "stream",
          "name": "stderr",
          "text": [
            "/usr/local/lib/python3.11/dist-packages/Bio/Application/__init__.py:39: BiopythonDeprecationWarning: The Bio.Application modules and modules relying on it have been deprecated.\n",
            "\n",
            "Due to the on going maintenance burden of keeping command line application\n",
            "wrappers up to date, we have decided to deprecate and eventually remove these\n",
            "modules.\n",
            "\n",
            "We instead now recommend building your command line and invoking it directly\n",
            "with the subprocess module.\n",
            "  warnings.warn(\n"
          ]
        }
      ]
    },
    {
      "cell_type": "code",
      "source": [
        "# Step 2: Extract genome.tar\n",
        "tar = tarfile.open(\"/content/drive/MyDrive/gnoms.tar\")\n",
        "tar.extractall(\"genomes\")\n",
        "tar.close()\n",
        "\n",
        "print(\"Extracted genome contigs to 'genomes/'\")\n"
      ],
      "metadata": {
        "colab": {
          "base_uri": "https://localhost:8080/"
        },
        "collapsed": true,
        "id": "ylcGAB46WJzp",
        "outputId": "216dad9c-1f14-4e0f-c089-ba8edc3f4ad0"
      },
      "execution_count": 3,
      "outputs": [
        {
          "output_type": "stream",
          "name": "stdout",
          "text": [
            "Extracted genome contigs to 'genomes/'\n"
          ]
        }
      ]
    },
    {
      "cell_type": "code",
      "source": [
        "# Step 3: Create BLAST database from genome contigs\n",
        "genome_dir = \"/content/genomes\"\n",
        "blast_db = \"genomes_db.fasta\"\n",
        "\n",
        "# Concatenate all fasta files into one for BLAST\n",
        "with open(blast_db, \"w\") as outfile:\n",
        "    for f in Path(genome_dir).rglob(\"*.fasta\"):\n",
        "        outfile.write(open(f).read())\n",
        "    for f in Path(genome_dir).rglob(\"*.fa\"):\n",
        "        outfile.write(open(f).read())\n",
        "\n",
        "!makeblastdb -in genomes_db.fasta -dbtype nucl -out genomes_db\n",
        "print(\"BLAST database created.\")\n"
      ],
      "metadata": {
        "colab": {
          "base_uri": "https://localhost:8080/"
        },
        "collapsed": true,
        "id": "trvR8NgkWJ6E",
        "outputId": "696d44db-8517-4c3d-d5d8-1c275baf4270"
      },
      "execution_count": 4,
      "outputs": [
        {
          "output_type": "stream",
          "name": "stdout",
          "text": [
            "\n",
            "\n",
            "Building a new DB, current time: 07/07/2025 10:36:59\n",
            "New DB name:   /content/genomes_db\n",
            "New DB title:  genomes_db.fasta\n",
            "Sequence type: Nucleotide\n",
            "Keep MBits: T\n",
            "Maximum file size: 1000000000B\n",
            "Adding sequences from FASTA; added 29 sequences in 0.375354 seconds.\n",
            "\n",
            "\n",
            "BLAST database created.\n"
          ]
        }
      ]
    },
    {
      "cell_type": "code",
      "source": [
        "# Step 4: Run BLASTn for gene matching\n",
        "query_file = \"/content/drive/MyDrive/Gene_seq.txt\"\n",
        "output_file = \"blast_output.xml\"\n",
        "\n",
        "blastn_cline = NcbiblastnCommandline(query=query_file, db=\"genomes_db\", evalue=1e-5,\n",
        "                                     outfmt=5, out=output_file, task=\"blastn\", num_threads=2)\n",
        "stdout, stderr = blastn_cline()\n",
        "print(\"BLAST search completed.\")\n"
      ],
      "metadata": {
        "colab": {
          "base_uri": "https://localhost:8080/"
        },
        "collapsed": true,
        "id": "D_tmwRjAWJ8S",
        "outputId": "c4de2b0c-8d1a-476c-8e64-5aa8dd5856e2"
      },
      "execution_count": 5,
      "outputs": [
        {
          "output_type": "stream",
          "name": "stdout",
          "text": [
            "BLAST search completed.\n"
          ]
        }
      ]
    },
    {
      "cell_type": "code",
      "source": [
        "# Step 5: Parse BLAST output and filter results\n",
        "matches = {}\n",
        "for result in SearchIO.parse(output_file, \"blast-xml\"):\n",
        "    gene_id = result.id\n",
        "    for hit in result.hits:\n",
        "        hsp = hit.hsps[0]\n",
        "        identity = (hsp.ident_num / hsp.aln_span) * 100\n",
        "        coverage = (hsp.query_span / result.seq_len) * 100\n",
        "        if identity >= 95 and coverage == 100:\n",
        "            matches.setdefault(gene_id, []).append({\n",
        "                \"hit_id\": hit.id,\n",
        "                \"identity\": identity,\n",
        "                \"coverage\": coverage,\n",
        "                \"query_start\": hsp.query_start,\n",
        "                \"query_end\": hsp.query_end,\n",
        "                \"hit_start\": hsp.hit_start,\n",
        "                \"hit_end\": hsp.hit_end\n",
        "            })\n",
        "print(\"Filtered high-identity matches found:\")\n",
        "for gene, hits in matches.items():\n",
        "    print(f\"{gene}: {len(hits)} hits\")\n"
      ],
      "metadata": {
        "colab": {
          "base_uri": "https://localhost:8080/"
        },
        "collapsed": true,
        "id": "5JcwDTlgWJ-x",
        "outputId": "95afae82-82cc-4249-f794-f6d30f4b251f"
      },
      "execution_count": 6,
      "outputs": [
        {
          "output_type": "stream",
          "name": "stdout",
          "text": [
            "Filtered high-identity matches found:\n",
            "gapA: 4 hits\n",
            "infB: 5 hits\n",
            "mdh: 5 hits\n",
            "pgi: 5 hits\n",
            "phoE: 5 hits\n",
            "rpoB: 5 hits\n",
            "tonB: 5 hits\n"
          ]
        }
      ]
    },
    {
      "cell_type": "code",
      "source": [
        "# Step 6: Extract matched sequences from genome\n",
        "from Bio.SeqRecord import SeqRecord\n",
        "from Bio.Seq import Seq\n",
        "\n",
        "extracted_dir = \"extracted_genes\"\n",
        "os.makedirs(extracted_dir, exist_ok=True)\n",
        "\n",
        "genome_records = SeqIO.to_dict(SeqIO.parse(\"genomes_db.fasta\", \"fasta\"))\n",
        "\n",
        "for gene, hits in matches.items():\n",
        "    records = []\n",
        "    for idx, hit in enumerate(hits):\n",
        "        seq = genome_records[hit['hit_id']].seq[hit['hit_start']:hit['hit_end']]\n",
        "        if hit['hit_start'] > hit['hit_end']:\n",
        "            seq = seq.reverse_complement()\n",
        "        rec_id = f\"{gene}_{idx}\"\n",
        "        records.append(SeqRecord(seq, id=rec_id, description=\"\"))\n",
        "    if records:\n",
        "        SeqIO.write(records, os.path.join(extracted_dir, f\"{gene}.fasta\"), \"fasta\")\n",
        "print(f\"Extracted matching gene sequences saved in '{extracted_dir}/'\")\n"
      ],
      "metadata": {
        "colab": {
          "base_uri": "https://localhost:8080/"
        },
        "collapsed": true,
        "id": "K7kZzc9mWKBI",
        "outputId": "7f7426d2-793c-4a26-ad30-2ac58a0e461d"
      },
      "execution_count": 7,
      "outputs": [
        {
          "output_type": "stream",
          "name": "stdout",
          "text": [
            "Extracted matching gene sequences saved in 'extracted_genes/'\n"
          ]
        }
      ]
    },
    {
      "cell_type": "code",
      "source": [
        "# Step 7: Align each gene using MAFFT\n",
        "aligned_dir = \"/content/extracted_genes\"\n",
        "os.makedirs(aligned_dir, exist_ok=True)\n",
        "\n",
        "for gene_file in os.listdir(extracted_dir):\n",
        "    input_path = os.path.join(extracted_dir, gene_file)\n",
        "    output_path = os.path.join(aligned_dir, gene_file)\n",
        "    !mafft --auto {input_path} > {output_path}\n",
        "print(\"Gene alignments completed using MAFFT.\")\n"
      ],
      "metadata": {
        "colab": {
          "base_uri": "https://localhost:8080/"
        },
        "collapsed": true,
        "id": "K3QbubyVWKD2",
        "outputId": "8b44d6ac-2a66-4d1b-a782-9a73bfe4f793"
      },
      "execution_count": 9,
      "outputs": [
        {
          "output_type": "stream",
          "name": "stdout",
          "text": [
            "outputhat23=16\n",
            "treein = 0\n",
            "compacttree = 0\n",
            "Warning: Only 0 sequence found.\n",
            "minimumweight = 0.000010\n",
            "autosubalignment = 0.000000\n",
            "nthread = 0\n",
            "randomseed = 0\n",
            "blosum 62 / kimura 200\n",
            "poffset = 0\n",
            "niter = 16\n",
            "sueff_global = 0.100000\n",
            "nadd = 16\n",
            "Warning: Only 0 sequence found.\n",
            "\n",
            "Strategy:\n",
            " L-INS-i (Probably most accurate, very slow)\n",
            " Iterative refinement method (<16) with LOCAL pairwise alignment information\n",
            "\n",
            "If unsure which option to use, try 'mafft --auto input > output'.\n",
            "For more information, see 'mafft --help', 'mafft --man' and the mafft page.\n",
            "\n",
            "The default gap scoring scheme has been changed in version 7.110 (2013 Oct).\n",
            "It tends to insert more gaps into gap-rich regions than previous versions.\n",
            "To disable this change, add the --leavegappyregion option.\n",
            "\n",
            "outputhat23=16\n",
            "treein = 0\n",
            "compacttree = 0\n",
            "Warning: Only 0 sequence found.\n",
            "minimumweight = 0.000010\n",
            "autosubalignment = 0.000000\n",
            "nthread = 0\n",
            "randomseed = 0\n",
            "blosum 62 / kimura 200\n",
            "poffset = 0\n",
            "niter = 16\n",
            "sueff_global = 0.100000\n",
            "nadd = 16\n",
            "Warning: Only 0 sequence found.\n",
            "\n",
            "Strategy:\n",
            " L-INS-i (Probably most accurate, very slow)\n",
            " Iterative refinement method (<16) with LOCAL pairwise alignment information\n",
            "\n",
            "If unsure which option to use, try 'mafft --auto input > output'.\n",
            "For more information, see 'mafft --help', 'mafft --man' and the mafft page.\n",
            "\n",
            "The default gap scoring scheme has been changed in version 7.110 (2013 Oct).\n",
            "It tends to insert more gaps into gap-rich regions than previous versions.\n",
            "To disable this change, add the --leavegappyregion option.\n",
            "\n",
            "outputhat23=16\n",
            "treein = 0\n",
            "compacttree = 0\n",
            "Warning: Only 0 sequence found.\n",
            "minimumweight = 0.000010\n",
            "autosubalignment = 0.000000\n",
            "nthread = 0\n",
            "randomseed = 0\n",
            "blosum 62 / kimura 200\n",
            "poffset = 0\n",
            "niter = 16\n",
            "sueff_global = 0.100000\n",
            "nadd = 16\n",
            "Warning: Only 0 sequence found.\n",
            "\n",
            "Strategy:\n",
            " L-INS-i (Probably most accurate, very slow)\n",
            " Iterative refinement method (<16) with LOCAL pairwise alignment information\n",
            "\n",
            "If unsure which option to use, try 'mafft --auto input > output'.\n",
            "For more information, see 'mafft --help', 'mafft --man' and the mafft page.\n",
            "\n",
            "The default gap scoring scheme has been changed in version 7.110 (2013 Oct).\n",
            "It tends to insert more gaps into gap-rich regions than previous versions.\n",
            "To disable this change, add the --leavegappyregion option.\n",
            "\n",
            "outputhat23=16\n",
            "treein = 0\n",
            "compacttree = 0\n",
            "Warning: Only 0 sequence found.\n",
            "minimumweight = 0.000010\n",
            "autosubalignment = 0.000000\n",
            "nthread = 0\n",
            "randomseed = 0\n",
            "blosum 62 / kimura 200\n",
            "poffset = 0\n",
            "niter = 16\n",
            "sueff_global = 0.100000\n",
            "nadd = 16\n",
            "Warning: Only 0 sequence found.\n",
            "\n",
            "Strategy:\n",
            " L-INS-i (Probably most accurate, very slow)\n",
            " Iterative refinement method (<16) with LOCAL pairwise alignment information\n",
            "\n",
            "If unsure which option to use, try 'mafft --auto input > output'.\n",
            "For more information, see 'mafft --help', 'mafft --man' and the mafft page.\n",
            "\n",
            "The default gap scoring scheme has been changed in version 7.110 (2013 Oct).\n",
            "It tends to insert more gaps into gap-rich regions than previous versions.\n",
            "To disable this change, add the --leavegappyregion option.\n",
            "\n",
            "outputhat23=16\n",
            "treein = 0\n",
            "compacttree = 0\n",
            "Warning: Only 0 sequence found.\n",
            "minimumweight = 0.000010\n",
            "autosubalignment = 0.000000\n",
            "nthread = 0\n",
            "randomseed = 0\n",
            "blosum 62 / kimura 200\n",
            "poffset = 0\n",
            "niter = 16\n",
            "sueff_global = 0.100000\n",
            "nadd = 16\n",
            "Warning: Only 0 sequence found.\n",
            "\n",
            "Strategy:\n",
            " L-INS-i (Probably most accurate, very slow)\n",
            " Iterative refinement method (<16) with LOCAL pairwise alignment information\n",
            "\n",
            "If unsure which option to use, try 'mafft --auto input > output'.\n",
            "For more information, see 'mafft --help', 'mafft --man' and the mafft page.\n",
            "\n",
            "The default gap scoring scheme has been changed in version 7.110 (2013 Oct).\n",
            "It tends to insert more gaps into gap-rich regions than previous versions.\n",
            "To disable this change, add the --leavegappyregion option.\n",
            "\n",
            "outputhat23=16\n",
            "treein = 0\n",
            "compacttree = 0\n",
            "Warning: Only 0 sequence found.\n",
            "minimumweight = 0.000010\n",
            "autosubalignment = 0.000000\n",
            "nthread = 0\n",
            "randomseed = 0\n",
            "blosum 62 / kimura 200\n",
            "poffset = 0\n",
            "niter = 16\n",
            "sueff_global = 0.100000\n",
            "nadd = 16\n",
            "Warning: Only 0 sequence found.\n",
            "\n",
            "Strategy:\n",
            " L-INS-i (Probably most accurate, very slow)\n",
            " Iterative refinement method (<16) with LOCAL pairwise alignment information\n",
            "\n",
            "If unsure which option to use, try 'mafft --auto input > output'.\n",
            "For more information, see 'mafft --help', 'mafft --man' and the mafft page.\n",
            "\n",
            "The default gap scoring scheme has been changed in version 7.110 (2013 Oct).\n",
            "It tends to insert more gaps into gap-rich regions than previous versions.\n",
            "To disable this change, add the --leavegappyregion option.\n",
            "\n",
            "outputhat23=16\n",
            "treein = 0\n",
            "compacttree = 0\n",
            "Warning: Only 0 sequence found.\n",
            "minimumweight = 0.000010\n",
            "autosubalignment = 0.000000\n",
            "nthread = 0\n",
            "randomseed = 0\n",
            "blosum 62 / kimura 200\n",
            "poffset = 0\n",
            "niter = 16\n",
            "sueff_global = 0.100000\n",
            "nadd = 16\n",
            "Warning: Only 0 sequence found.\n",
            "\n",
            "Strategy:\n",
            " L-INS-i (Probably most accurate, very slow)\n",
            " Iterative refinement method (<16) with LOCAL pairwise alignment information\n",
            "\n",
            "If unsure which option to use, try 'mafft --auto input > output'.\n",
            "For more information, see 'mafft --help', 'mafft --man' and the mafft page.\n",
            "\n",
            "The default gap scoring scheme has been changed in version 7.110 (2013 Oct).\n",
            "It tends to insert more gaps into gap-rich regions than previous versions.\n",
            "To disable this change, add the --leavegappyregion option.\n",
            "\n",
            "Gene alignments completed using MAFFT.\n"
          ]
        }
      ]
    },
    {
      "cell_type": "code",
      "source": [
        "# Step 8: Concatenate aligned genes for phylogeny\n",
        "from Bio.Align import MultipleSeqAlignment\n",
        "\n",
        "gene_order = ['gapA', 'infB', 'mdh', 'pgi', 'phoE', 'rpoB', 'tonB']\n",
        "combined_records = {}\n",
        "\n",
        "for gene in gene_order:\n",
        "    align_path = os.path.join(aligned_dir, f\"{gene}.fasta\")\n",
        "    alignment = list(SeqIO.parse(align_path, \"fasta\"))\n",
        "    for rec in alignment:\n",
        "        if rec.id not in combined_records:\n",
        "            combined_records[rec.id] = \"\"\n",
        "        combined_records[rec.id] += str(rec.seq)\n",
        "\n",
        "# Save concatenated alignment\n",
        "concat_file = \"concatenated_alignment.fasta\"\n",
        "with open(concat_file, \"w\") as out_f:\n",
        "    for id, seq in combined_records.items():\n",
        "        out_f.write(f\">{id}\\n{seq}\\n\")\n",
        "print(f\"Concatenated alignment saved as {concat_file}\")\n"
      ],
      "metadata": {
        "colab": {
          "base_uri": "https://localhost:8080/"
        },
        "collapsed": true,
        "id": "dl_WNJ4FWKGg",
        "outputId": "da66639a-6be8-45a5-8bb2-bfdeae02752a"
      },
      "execution_count": 10,
      "outputs": [
        {
          "output_type": "stream",
          "name": "stdout",
          "text": [
            "Concatenated alignment saved as concatenated_alignment.fasta\n"
          ]
        }
      ]
    },
    {
      "cell_type": "code",
      "source": [
        "!apt-get install -y fasttree\n"
      ],
      "metadata": {
        "colab": {
          "base_uri": "https://localhost:8080/"
        },
        "collapsed": true,
        "id": "Ts8439ppWKL7",
        "outputId": "52c4642f-96d9-4092-ed0f-2399263bd710"
      },
      "execution_count": 11,
      "outputs": [
        {
          "output_type": "stream",
          "name": "stdout",
          "text": [
            "Reading package lists... Done\n",
            "Building dependency tree... Done\n",
            "Reading state information... Done\n",
            "The following NEW packages will be installed:\n",
            "  fasttree\n",
            "0 upgraded, 1 newly installed, 0 to remove and 35 not upgraded.\n",
            "Need to get 174 kB of archives.\n",
            "After this operation, 499 kB of additional disk space will be used.\n",
            "Get:1 http://archive.ubuntu.com/ubuntu jammy/universe amd64 fasttree amd64 2.1.11-2 [174 kB]\n",
            "Fetched 174 kB in 0s (942 kB/s)\n",
            "Selecting previously unselected package fasttree.\n",
            "(Reading database ... 130373 files and directories currently installed.)\n",
            "Preparing to unpack .../fasttree_2.1.11-2_amd64.deb ...\n",
            "Unpacking fasttree (2.1.11-2) ...\n",
            "Setting up fasttree (2.1.11-2) ...\n",
            "Processing triggers for man-db (2.10.2-1) ...\n"
          ]
        }
      ]
    },
    {
      "cell_type": "code",
      "source": [
        "# Build ML tree from your concatenated alignment\n",
        "!FastTree -nt /content/concatenated_alignment.fasta > ml_tree.nwk\n"
      ],
      "metadata": {
        "colab": {
          "base_uri": "https://localhost:8080/"
        },
        "collapsed": true,
        "id": "meD6WN3EZdnu",
        "outputId": "0aa9a259-a0c4-40ac-8e23-8b7494f38657"
      },
      "execution_count": 12,
      "outputs": [
        {
          "output_type": "stream",
          "name": "stdout",
          "text": [
            "FastTree Version 2.1.11 Double precision (No SSE3)\n",
            "Alignment: /content/concatenated_alignment.fasta\n",
            "Nucleotide distances: Jukes-Cantor Joins: balanced Support: SH-like 1000\n",
            "Search: Normal +NNI +SPR (2 rounds range 10) +ML-NNI opt-each=1\n",
            "TopHits: 1.00*sqrtN close=default refresh=0.80\n",
            "ML Model: Jukes-Cantor, CAT approximation with 20 rate categories\n",
            "Error reading header line\n"
          ]
        }
      ]
    },
    {
      "cell_type": "code",
      "source": [],
      "metadata": {
        "id": "plWk-6ufeVV5"
      },
      "execution_count": null,
      "outputs": []
    },
    {
      "cell_type": "code",
      "source": [
        "#Q1) Are all 7 genes present across all the genomes provided?\n",
        "from collections import defaultdict\n",
        "\n",
        "# Get a list of genome IDs (based on contig headers)\n",
        "genome_ids = set()\n",
        "for record in SeqIO.parse(\"/content/genomes_db.fasta\", \"fasta\"):\n",
        "    genome_ids.add(record.id.split(\"_\")[0])  # adjust if ID format differs\n",
        "\n",
        "# Check if each gene is found in each genome\n",
        "gene_presence = defaultdict(set)\n",
        "\n",
        "for gene, hits in matches.items():\n",
        "    for hit in hits:\n",
        "        genome_id = hit[\"hit_id\"].split(\"_\")[0]\n",
        "        gene_presence[gene].add(genome_id)\n",
        "\n",
        "print(\"Gene presence summary:\")\n",
        "for gene in ['gapA', 'infB', 'mdh', 'pgi', 'phoE', 'rpoB', 'tonB']:\n",
        "    genomes_with_gene = gene_presence[gene]\n",
        "    print(f\"{gene}: Present in {len(genomes_with_gene)} / {len(genome_ids)} genomes\")\n"
      ],
      "metadata": {
        "colab": {
          "base_uri": "https://localhost:8080/"
        },
        "id": "5cgHenP4Zdwh",
        "outputId": "ffdfc4c6-9ff4-49c1-c649-71ef1ca11887"
      },
      "execution_count": 13,
      "outputs": [
        {
          "output_type": "stream",
          "name": "stdout",
          "text": [
            "Gene presence summary:\n",
            "gapA: Present in 4 / 5 genomes\n",
            "infB: Present in 5 / 5 genomes\n",
            "mdh: Present in 5 / 5 genomes\n",
            "pgi: Present in 5 / 5 genomes\n",
            "phoE: Present in 5 / 5 genomes\n",
            "rpoB: Present in 5 / 5 genomes\n",
            "tonB: Present in 5 / 5 genomes\n"
          ]
        }
      ]
    },
    {
      "cell_type": "code",
      "source": [
        "#Q2) Can you comment upon the presence of paralogs for these genes?\n",
        "# Count number of hits per gene per genome\n",
        "paralog_check = defaultdict(lambda: defaultdict(int))\n",
        "\n",
        "for gene, hits in matches.items():\n",
        "    for hit in hits:\n",
        "        genome_id = hit[\"hit_id\"].split(\"_\")[0]\n",
        "        paralog_check[gene][genome_id] += 1\n",
        "\n",
        "# Report genomes with multiple copies of any gene\n",
        "print(\"Paralog presence:\")\n",
        "for gene in paralog_check:\n",
        "    for genome_id, count in paralog_check[gene].items():\n",
        "        if count > 1:\n",
        "            print(f\"{gene} has {count} copies in genome {genome_id}\")\n"
      ],
      "metadata": {
        "colab": {
          "base_uri": "https://localhost:8080/"
        },
        "id": "ZcpFBpE1aIYE",
        "outputId": "afa85aed-ee7b-437a-8fde-1cfb910b517a"
      },
      "execution_count": 14,
      "outputs": [
        {
          "output_type": "stream",
          "name": "stdout",
          "text": [
            "Paralog presence:\n"
          ]
        }
      ]
    },
    {
      "cell_type": "code",
      "source": [
        "#Can you write a program to identify all genes other than the\n",
        "#7 genes listed that are conserved and occur only once across the provided genomes?\n",
        "#How many genes were you able to list?\n",
        "from Bio import SeqIO\n",
        "from collections import defaultdict\n",
        "\n",
        "# 7 known genes to exclude\n",
        "seven_genes = {'gapA', 'infB', 'mdh', 'pgi', 'phoE', 'rpoB', 'tonB'}\n",
        "\n",
        "# Step 1: Read all genes\n",
        "all_genes = list(SeqIO.parse(\"/content/concatenated_alignment.fasta\", \"fasta\"))\n",
        "\n",
        "# Step 2: Cluster genes by sequence\n",
        "clusters = defaultdict(list)\n",
        "genomes = set()\n",
        "\n",
        "for record in all_genes:\n",
        "    try:\n",
        "        gene_name, genome_id = record.id.split(\"|\")\n",
        "    except ValueError:\n",
        "        print(f\"Invalid record ID format: {record.id}\")\n",
        "        continue\n",
        "    if gene_name in seven_genes:\n",
        "        continue  # Skip known marker genes\n",
        "    clusters[str(record.seq)].append(genome_id)\n",
        "    genomes.add(genome_id)\n",
        "\n",
        "# Step 3: Identify conserved, single-copy clusters\n",
        "conserved_genes = []\n",
        "for seq, genome_list in clusters.items():\n",
        "    genome_set = set(genome_list)\n",
        "    if len(genome_set) == len(genomes) and all(genome_list.count(g) == 1 for g in genome_set):\n",
        "        conserved_genes.append(seq)\n",
        "\n",
        "print(f\"\\n✅ Total conserved single-copy genes (excluding the 7 known genes): {len(conserved_genes)}\")\n"
      ],
      "metadata": {
        "colab": {
          "base_uri": "https://localhost:8080/"
        },
        "collapsed": true,
        "id": "XdHS1iIeaIaU",
        "outputId": "ad7d03d9-d481-434b-ffa3-429bbacb137e"
      },
      "execution_count": 16,
      "outputs": [
        {
          "output_type": "stream",
          "name": "stdout",
          "text": [
            "\n",
            "✅ Total conserved single-copy genes (excluding the 7 known genes): 0\n"
          ]
        }
      ]
    },
    {
      "cell_type": "code",
      "source": [],
      "metadata": {
        "id": "cz_-HiJiaIex"
      },
      "execution_count": null,
      "outputs": []
    },
    {
      "cell_type": "code",
      "source": [],
      "metadata": {
        "id": "h1rZ969EaIhD"
      },
      "execution_count": null,
      "outputs": []
    },
    {
      "cell_type": "code",
      "source": [],
      "metadata": {
        "id": "oxe0oRrHaIjb"
      },
      "execution_count": null,
      "outputs": []
    },
    {
      "cell_type": "code",
      "source": [],
      "metadata": {
        "id": "AIZRUrIBZdyk"
      },
      "execution_count": null,
      "outputs": []
    }
  ]
}