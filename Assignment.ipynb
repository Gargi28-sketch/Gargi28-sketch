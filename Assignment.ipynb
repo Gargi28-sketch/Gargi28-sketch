{
  "nbformat": 4,
  "nbformat_minor": 0,
  "metadata": {
    "colab": {
      "provenance": [],
      "mount_file_id": "1OVXo4vMW3JpEcUPBZ9bToZ1faCppnisI",
      "authorship_tag": "ABX9TyN5CcRUgXDFHGgfVCQXzPZd",
      "include_colab_link": true
    },
    "kernelspec": {
      "name": "python3",
      "display_name": "Python 3"
    },
    "language_info": {
      "name": "python"
    }
  },
  "cells": [
    {
      "cell_type": "markdown",
      "metadata": {
        "id": "view-in-github",
        "colab_type": "text"
      },
      "source": [
        "<a href=\"https://colab.research.google.com/github/Gargi28-sketch/Gargi28-sketch/blob/main/Assignment.ipynb\" target=\"_parent\"><img src=\"https://colab.research.google.com/assets/colab-badge.svg\" alt=\"Open In Colab\"/></a>"
      ]
    },
    {
      "cell_type": "code",
      "source": [
        "# Install required packages\n",
        "!apt-get install -y ncbi-blast+ mafft iqtree\n",
        "!pip install biopython\n"
      ],
      "metadata": {
        "collapsed": true,
        "id": "L5EJO-MwWJmH"
      },
      "execution_count": null,
      "outputs": []
    },
    {
      "cell_type": "code",
      "source": [
        "import os\n",
        "import tarfile\n",
        "from Bio import SeqIO\n",
        "from Bio.Blast.Applications import NcbiblastnCommandline\n",
        "from Bio import SearchIO\n",
        "from shutil import copyfile\n",
        "from pathlib import Path"
      ],
      "metadata": {
        "collapsed": true,
        "id": "55-8DPIuWJw8"
      },
      "execution_count": null,
      "outputs": []
    },
    {
      "cell_type": "code",
      "source": [
        "# Step 2: Extract genome.tar\n",
        "tar = tarfile.open(\"/content/drive/MyDrive/gnoms.tar\")\n",
        "tar.extractall(\"genomes\")\n",
        "tar.close()\n",
        "\n",
        "print(\"Extracted genome contigs to 'genomes/'\")\n"
      ],
      "metadata": {
        "colab": {
          "base_uri": "https://localhost:8080/"
        },
        "collapsed": true,
        "id": "ylcGAB46WJzp",
        "outputId": "21532421-0d24-4f4a-d58e-14e2938ab98e"
      },
      "execution_count": 21,
      "outputs": [
        {
          "output_type": "stream",
          "name": "stdout",
          "text": [
            "Extracted genome contigs to 'genomes/'\n"
          ]
        }
      ]
    },
    {
      "cell_type": "code",
      "source": [
        "# Step 3: Create BLAST database from genome contigs\n",
        "genome_dir = \"/content/genomes\"\n",
        "blast_db = \"genomes_db.fasta\"\n",
        "\n",
        "# Concatenate all fasta files into one for BLAST\n",
        "with open(blast_db, \"w\") as outfile:\n",
        "    for f in Path(genome_dir).rglob(\"*.fasta\"):\n",
        "        outfile.write(open(f).read())\n",
        "    for f in Path(genome_dir).rglob(\"*.fa\"):\n",
        "        outfile.write(open(f).read())\n",
        "\n",
        "!makeblastdb -in genomes_db.fasta -dbtype nucl -out genomes_db\n",
        "print(\"BLAST database created.\")\n"
      ],
      "metadata": {
        "colab": {
          "base_uri": "https://localhost:8080/"
        },
        "collapsed": true,
        "id": "trvR8NgkWJ6E",
        "outputId": "e4d9221a-c775-4506-a8a0-e39fc95578c3"
      },
      "execution_count": 22,
      "outputs": [
        {
          "output_type": "stream",
          "name": "stdout",
          "text": [
            "\n",
            "\n",
            "Building a new DB, current time: 07/07/2025 11:11:07\n",
            "New DB name:   /content/genomes_db\n",
            "New DB title:  genomes_db.fasta\n",
            "Sequence type: Nucleotide\n",
            "Deleted existing Nucleotide BLAST database named /content/genomes_db\n",
            "Keep MBits: T\n",
            "Maximum file size: 1000000000B\n",
            "Adding sequences from FASTA; added 29 sequences in 0.401262 seconds.\n",
            "\n",
            "\n",
            "BLAST database created.\n"
          ]
        }
      ]
    },
    {
      "cell_type": "code",
      "source": [
        "# Step 4: Run BLASTn for gene matching\n",
        "query_file = \"/content/drive/MyDrive/Gene_seq.txt\"\n",
        "output_file = \"blast_output.xml\"\n",
        "\n",
        "blastn_cline = NcbiblastnCommandline(query=query_file, db=\"genomes_db\", evalue=1e-5,\n",
        "                                     outfmt=5, out=output_file, task=\"blastn\", num_threads=2)\n",
        "stdout, stderr = blastn_cline()\n",
        "print(\"BLAST search completed.\")\n"
      ],
      "metadata": {
        "colab": {
          "base_uri": "https://localhost:8080/"
        },
        "collapsed": true,
        "id": "D_tmwRjAWJ8S",
        "outputId": "ebbf17b2-0246-4e54-8aa3-cb40af3d0826"
      },
      "execution_count": 23,
      "outputs": [
        {
          "output_type": "stream",
          "name": "stdout",
          "text": [
            "BLAST search completed.\n"
          ]
        }
      ]
    },
    {
      "cell_type": "code",
      "source": [
        "# Step 5: Parse BLAST output and filter results\n",
        "matches = {}\n",
        "for result in SearchIO.parse(output_file, \"blast-xml\"):\n",
        "    gene_id = result.id\n",
        "    for hit in result.hits:\n",
        "        hsp = hit.hsps[0]\n",
        "        identity = (hsp.ident_num / hsp.aln_span) * 100\n",
        "        coverage = (hsp.query_span / result.seq_len) * 100\n",
        "        if identity >= 95 and coverage == 100:\n",
        "            matches.setdefault(gene_id, []).append({\n",
        "                \"hit_id\": hit.id,\n",
        "                \"identity\": identity,\n",
        "                \"coverage\": coverage,\n",
        "                \"query_start\": hsp.query_start,\n",
        "                \"query_end\": hsp.query_end,\n",
        "                \"hit_start\": hsp.hit_start,\n",
        "                \"hit_end\": hsp.hit_end\n",
        "            })\n",
        "print(\"Filtered high-identity matches found:\")\n",
        "for gene, hits in matches.items():\n",
        "    print(f\"{gene}: {len(hits)} hits\")\n"
      ],
      "metadata": {
        "colab": {
          "base_uri": "https://localhost:8080/"
        },
        "collapsed": true,
        "id": "5JcwDTlgWJ-x",
        "outputId": "d67573fe-66c2-44b6-ae1f-862c5bdb8436"
      },
      "execution_count": 24,
      "outputs": [
        {
          "output_type": "stream",
          "name": "stdout",
          "text": [
            "Filtered high-identity matches found:\n",
            "gapA: 4 hits\n",
            "infB: 5 hits\n",
            "mdh: 5 hits\n",
            "pgi: 5 hits\n",
            "phoE: 5 hits\n",
            "rpoB: 5 hits\n",
            "tonB: 5 hits\n"
          ]
        }
      ]
    },
    {
      "cell_type": "code",
      "source": [
        "# Step 6: Extract matched sequences from genome\n",
        "from Bio.SeqRecord import SeqRecord\n",
        "from Bio.Seq import Seq\n",
        "\n",
        "extracted_dir = \"extracted_genes\"\n",
        "os.makedirs(extracted_dir, exist_ok=True)\n",
        "\n",
        "genome_records = SeqIO.to_dict(SeqIO.parse(\"genomes_db.fasta\", \"fasta\"))\n",
        "\n",
        "for gene, hits in matches.items():\n",
        "    records = []\n",
        "    for idx, hit in enumerate(hits):\n",
        "        seq = genome_records[hit['hit_id']].seq[hit['hit_start']:hit['hit_end']]\n",
        "        if hit['hit_start'] > hit['hit_end']:\n",
        "            seq = seq.reverse_complement()\n",
        "        rec_id = f\"{gene}_{idx}\"\n",
        "        records.append(SeqRecord(seq, id=rec_id, description=\"\"))\n",
        "    if records:\n",
        "        SeqIO.write(records, os.path.join(extracted_dir, f\"{gene}.fasta\"), \"fasta\")\n",
        "print(f\"Extracted matching gene sequences saved in '{extracted_dir}/'\")\n"
      ],
      "metadata": {
        "colab": {
          "base_uri": "https://localhost:8080/"
        },
        "collapsed": true,
        "id": "K7kZzc9mWKBI",
        "outputId": "5139c7c2-f7ae-475a-8f49-8ebfbc2225d5"
      },
      "execution_count": 25,
      "outputs": [
        {
          "output_type": "stream",
          "name": "stdout",
          "text": [
            "Extracted matching gene sequences saved in 'extracted_genes/'\n"
          ]
        }
      ]
    },
    {
      "cell_type": "code",
      "source": [
        "# Step 7: Align each gene using MAFFT\n",
        "aligned_dir = \"/content/extracted_genes\"\n",
        "os.makedirs(aligned_dir, exist_ok=True)\n",
        "\n",
        "for gene_file in os.listdir(extracted_dir):\n",
        "    input_path = os.path.join(extracted_dir, gene_file)\n",
        "    output_path = os.path.join(aligned_dir, gene_file)\n",
        "    !mafft --auto {input_path} > {output_path}\n",
        "print(\"Gene alignments completed using MAFFT.\")\n"
      ],
      "metadata": {
        "collapsed": true,
        "id": "K3QbubyVWKD2"
      },
      "execution_count": null,
      "outputs": []
    },
    {
      "cell_type": "code",
      "source": [
        "# Step 8: Concatenate aligned genes for phylogeny\n",
        "from Bio.Align import MultipleSeqAlignment\n",
        "\n",
        "gene_order = ['gapA', 'infB', 'mdh', 'pgi', 'phoE', 'rpoB', 'tonB']\n",
        "combined_records = {}\n",
        "\n",
        "for gene in gene_order:\n",
        "    align_path = os.path.join(aligned_dir, f\"{gene}.fasta\")\n",
        "    alignment = list(SeqIO.parse(align_path, \"fasta\"))\n",
        "    for rec in alignment:\n",
        "        if rec.id not in combined_records:\n",
        "            combined_records[rec.id] = \"\"\n",
        "        combined_records[rec.id] += str(rec.seq)\n",
        "\n",
        "# Save concatenated alignment\n",
        "concat_file = \"concatenated_alignment.fasta\"\n",
        "with open(concat_file, \"w\") as out_f:\n",
        "    for id, seq in combined_records.items():\n",
        "        out_f.write(f\">{id}\\n{seq}\\n\")\n",
        "print(f\"Concatenated alignment saved as {concat_file}\")\n"
      ],
      "metadata": {
        "colab": {
          "base_uri": "https://localhost:8080/"
        },
        "collapsed": true,
        "id": "dl_WNJ4FWKGg",
        "outputId": "a92a6af4-9b6a-428f-958e-aff3d610dc3b"
      },
      "execution_count": 27,
      "outputs": [
        {
          "output_type": "stream",
          "name": "stdout",
          "text": [
            "Concatenated alignment saved as concatenated_alignment.fasta\n"
          ]
        }
      ]
    },
    {
      "cell_type": "code",
      "source": [
        "!apt-get install -y fasttree\n"
      ],
      "metadata": {
        "collapsed": true,
        "id": "Ts8439ppWKL7"
      },
      "execution_count": null,
      "outputs": []
    },
    {
      "cell_type": "code",
      "source": [
        "# Build ML tree from your concatenated alignment\n",
        "!FastTree -nt /content/concatenated_alignment.fasta > ml_tree.nwk\n"
      ],
      "metadata": {
        "collapsed": true,
        "id": "meD6WN3EZdnu"
      },
      "execution_count": null,
      "outputs": []
    },
    {
      "cell_type": "code",
      "source": [],
      "metadata": {
        "id": "plWk-6ufeVV5"
      },
      "execution_count": null,
      "outputs": []
    },
    {
      "cell_type": "code",
      "source": [
        "#Q1) Are all 7 genes present across all the genomes provided?\n",
        "from collections import defaultdict\n",
        "\n",
        "# Get a list of genome IDs (based on contig headers)\n",
        "genome_ids = set()\n",
        "for record in SeqIO.parse(\"/content/genomes_db.fasta\", \"fasta\"):\n",
        "    genome_ids.add(record.id.split(\"_\")[0])  # adjust if ID format differs\n",
        "\n",
        "# Check if each gene is found in each genome\n",
        "gene_presence = defaultdict(set)\n",
        "\n",
        "for gene, hits in matches.items():\n",
        "    for hit in hits:\n",
        "        genome_id = hit[\"hit_id\"].split(\"_\")[0]\n",
        "        gene_presence[gene].add(genome_id)\n",
        "\n",
        "print(\"Gene presence summary:\")\n",
        "for gene in ['gapA', 'infB', 'mdh', 'pgi', 'phoE', 'rpoB', 'tonB']:\n",
        "    genomes_with_gene = gene_presence[gene]\n",
        "    print(f\"{gene}: Present in {len(genomes_with_gene)} / {len(genome_ids)} genomes\")\n"
      ],
      "metadata": {
        "colab": {
          "base_uri": "https://localhost:8080/"
        },
        "id": "5cgHenP4Zdwh",
        "outputId": "5665abc0-c731-4e00-d7c9-30a57442208b"
      },
      "execution_count": 29,
      "outputs": [
        {
          "output_type": "stream",
          "name": "stdout",
          "text": [
            "Gene presence summary:\n",
            "gapA: Present in 4 / 5 genomes\n",
            "infB: Present in 5 / 5 genomes\n",
            "mdh: Present in 5 / 5 genomes\n",
            "pgi: Present in 5 / 5 genomes\n",
            "phoE: Present in 5 / 5 genomes\n",
            "rpoB: Present in 5 / 5 genomes\n",
            "tonB: Present in 5 / 5 genomes\n"
          ]
        }
      ]
    },
    {
      "cell_type": "code",
      "source": [
        "#Q2) Can you comment upon the presence of paralogs for these genes?\n",
        "# Count number of hits per gene per genome\n",
        "paralog_check = defaultdict(lambda: defaultdict(int))\n",
        "\n",
        "for gene, hits in matches.items():\n",
        "    for hit in hits:\n",
        "        genome_id = hit[\"hit_id\"].split(\"_\")[0]\n",
        "        paralog_check[gene][genome_id] += 1\n",
        "\n",
        "# Report genomes with multiple copies of any gene\n",
        "print(\"Paralog presence:\")\n",
        "for gene in paralog_check:\n",
        "    for genome_id, count in paralog_check[gene].items():\n",
        "        if count > 1:\n",
        "            print(f\"{gene} has {count} copies in genome {genome_id}\")\n"
      ],
      "metadata": {
        "colab": {
          "base_uri": "https://localhost:8080/"
        },
        "id": "ZcpFBpE1aIYE",
        "outputId": "5ff6104e-9e39-48bf-8df0-2792eec5af0e"
      },
      "execution_count": 30,
      "outputs": [
        {
          "output_type": "stream",
          "name": "stdout",
          "text": [
            "Paralog presence:\n"
          ]
        }
      ]
    },
    {
      "cell_type": "code",
      "source": [
        "#Can you write a program to identify all genes other than the\n",
        "#7 genes listed that are conserved and occur only once across the provided genomes?\n",
        "#How many genes were you able to list?\n",
        "from Bio import SeqIO\n",
        "from collections import defaultdict\n",
        "\n",
        "# 7 known genes to exclude\n",
        "seven_genes = {'gapA', 'infB', 'mdh', 'pgi', 'phoE', 'rpoB', 'tonB'}\n",
        "\n",
        "# Step 1: Read all genes\n",
        "all_genes = list(SeqIO.parse(\"/content/concatenated_alignment.fasta\", \"fasta\"))\n",
        "\n",
        "# Step 2: Cluster genes by sequence\n",
        "clusters = defaultdict(list)\n",
        "genomes = set()\n",
        "\n",
        "for record in all_genes:\n",
        "    try:\n",
        "        gene_name, genome_id = record.id.split(\"|\")\n",
        "    except ValueError:\n",
        "        print(f\"Invalid record ID format: {record.id}\")\n",
        "        continue\n",
        "    if gene_name in seven_genes:\n",
        "        continue  # Skip known marker genes\n",
        "    clusters[str(record.seq)].append(genome_id)\n",
        "    genomes.add(genome_id)\n",
        "\n",
        "# Step 3: Identify conserved, single-copy clusters\n",
        "conserved_genes = []\n",
        "for seq, genome_list in clusters.items():\n",
        "    genome_set = set(genome_list)\n",
        "    if len(genome_set) == len(genomes) and all(genome_list.count(g) == 1 for g in genome_set):\n",
        "        conserved_genes.append(seq)\n",
        "\n",
        "print(f\"\\n Total conserved single-copy genes (excluding the 7 known genes): {len(conserved_genes)}\")\n"
      ],
      "metadata": {
        "colab": {
          "base_uri": "https://localhost:8080/"
        },
        "collapsed": true,
        "id": "XdHS1iIeaIaU",
        "outputId": "06799017-f65d-4661-f587-20af28bd16bc"
      },
      "execution_count": 31,
      "outputs": [
        {
          "output_type": "stream",
          "name": "stdout",
          "text": [
            "\n",
            " Total conserved single-copy genes (excluding the 7 known genes): 0\n"
          ]
        }
      ]
    },
    {
      "cell_type": "code",
      "source": [],
      "metadata": {
        "id": "cz_-HiJiaIex"
      },
      "execution_count": null,
      "outputs": []
    },
    {
      "cell_type": "code",
      "source": [],
      "metadata": {
        "id": "h1rZ969EaIhD"
      },
      "execution_count": null,
      "outputs": []
    },
    {
      "cell_type": "code",
      "source": [],
      "metadata": {
        "id": "oxe0oRrHaIjb"
      },
      "execution_count": null,
      "outputs": []
    },
    {
      "cell_type": "code",
      "source": [],
      "metadata": {
        "id": "AIZRUrIBZdyk"
      },
      "execution_count": null,
      "outputs": []
    }
  ]
}